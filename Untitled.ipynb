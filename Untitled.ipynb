{
 "cells": [
  {
   "cell_type": "code",
   "execution_count": 12,
   "metadata": {
    "collapsed": true
   },
   "outputs": [],
   "source": [
    "import matplotlib.pyplot as plt\n",
    "import numpy as np"
   ]
  },
  {
   "cell_type": "code",
   "execution_count": 21,
   "metadata": {},
   "outputs": [],
   "source": [
    "f = open(\"data.log\", \"r\")\n",
    "data = f.read().split(\"\\n\")\n",
    "lines = np.array([line.split(\"\\t\") for line in data])\n",
    "resultData = np.transpose(lines)"
   ]
  },
  {
   "cell_type": "code",
   "execution_count": 27,
   "metadata": {},
   "outputs": [],
   "source": [
    "plt.figure(1, figsize = (10, 10))\n",
    "real_angles = resultData[0]"
   ]
  },
  {
   "cell_type": "code",
   "execution_count": 31,
   "metadata": {},
   "outputs": [
    {
     "data": {
      "text/plain": [
       "<matplotlib.figure.Figure at 0x7f78c41457d0>"
      ]
     },
     "execution_count": 31,
     "metadata": {},
     "output_type": "execute_result"
    }
   ],
   "source": [
    "plt.figure(1, figsize = (10, 10))\n"
   ]
  },
  {
   "cell_type": "code",
   "execution_count": 32,
   "metadata": {},
   "outputs": [
    {
     "data": {
      "text/plain": [
       "['3.23888',\n",
       " '3.23888',\n",
       " '-3.89227e-06',\n",
       " '0',\n",
       " '-0',\n",
       " '2.17242',\n",
       " '2.17242',\n",
       " '1.33304e-06',\n",
       " '0',\n",
       " '-0',\n",
       " '-2.27798',\n",
       " '-2.27798',\n",
       " '6.29561e-06',\n",
       " '0',\n",
       " '0',\n",
       " '3.39192',\n",
       " '3.39192',\n",
       " '-7.73094e-07',\n",
       " '0',\n",
       " '-0',\n",
       " '3.20423',\n",
       " '3.20422',\n",
       " '-2.64828e-06',\n",
       " '0',\n",
       " '-0',\n",
       " '']"
      ]
     },
     "execution_count": 32,
     "metadata": {},
     "output_type": "execute_result"
    }
   ],
   "source": [
    "real_angles"
   ]
  }
 ],
 "metadata": {
  "kernelspec": {
   "display_name": "Python 2",
   "language": "python",
   "name": "python2"
  },
  "language_info": {
   "codemirror_mode": {
    "name": "ipython",
    "version": 2
   },
   "file_extension": ".py",
   "mimetype": "text/x-python",
   "name": "python",
   "nbconvert_exporter": "python",
   "pygments_lexer": "ipython2",
   "version": "2.7.6"
  }
 },
 "nbformat": 4,
 "nbformat_minor": 2
}
