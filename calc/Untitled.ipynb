{
 "cells": [
  {
   "cell_type": "code",
   "execution_count": 7,
   "metadata": {},
   "outputs": [],
   "source": [
    "from sympy import *\n",
    "init_printing(use_unicode=True)"
   ]
  },
  {
   "cell_type": "code",
   "execution_count": 38,
   "metadata": {
    "collapsed": true
   },
   "outputs": [],
   "source": [
    "q_1, q_2, q_3, q_4, q_5 = symbols('q_1 q_2 q_3 q_4 q_5')\n",
    "d_0x, d_0z, d_1x, d_1z, d_2, d_3, d_4 = symbols('d_0x, d_0z, d_1x, d_1z, d_2, d_3, d_4')\n",
    "p_1, p_2, p_3 = symbols('p_1, p_2, p_3')"
   ]
  },
  {
   "cell_type": "code",
   "execution_count": 57,
   "metadata": {},
   "outputs": [],
   "source": [
    "A_1 = Matrix([[cos(q_1), sin(q_1), 0, d_0x], [-sin(q_1), cos(q_1), 0, 0], [0, 0, 1, d_0z], [0, 0, 0, 1]])\n",
    "A_2 = Matrix([[cos(q_2), 0, sin(q_2), d_1x], [0, 1, 0, 0], [-sin(q_2), 0, cos(q_2), d_1z], [0, 0, 0, 1]])\n",
    "A_3 = Matrix([[cos(q_3), 0, sin(q_3), 0], [0, 1, 0, 0], [-sin(q_3), 0, cos(q_3), d_2], [0, 0, 0, 1]])\n",
    "A_4 = Matrix([[cos(q_4), 0, sin(q_4), 0], [0, 1, 0, 0], [-sin(q_4), 0, cos(q_4), d_3], [0, 0, 0, 1]])\n",
    "A_5 = Matrix([[cos(q_5), sin(q_5), 0, 0], [-sin(q_5), cos(q_5), 0, 0], [0, 0, 1, d_4], [0, 0, 0, 1]])\n",
    "A_6 = Matrix([[1, 0, 0, p_1], [0, 1, 0, p_2], [0, 0, 1, p_3], [0, 0, 0, 1]])"
   ]
  },
  {
   "cell_type": "code",
   "execution_count": 58,
   "metadata": {
    "scrolled": true
   },
   "outputs": [
    {
     "data": {
      "text/latex": [
       "$$\\left[\\begin{matrix}- \\sin{\\left (q_{1} \\right )} \\sin{\\left (q_{5} \\right )} + \\cos{\\left (q_{1} \\right )} \\cos{\\left (q_{5} \\right )} \\cos{\\left (q_{2} + q_{3} + q_{4} \\right )} & \\sin{\\left (q_{1} \\right )} \\cos{\\left (q_{5} \\right )} + \\sin{\\left (q_{5} \\right )} \\cos{\\left (q_{1} \\right )} \\cos{\\left (q_{2} + q_{3} + q_{4} \\right )} & \\sin{\\left (q_{2} + q_{3} + q_{4} \\right )} \\cos{\\left (q_{1} \\right )} & d_{0x} + d_{1x} \\cos{\\left (q_{1} \\right )} + d_{2} \\sin{\\left (q_{2} \\right )} \\cos{\\left (q_{1} \\right )} + d_{3} \\sin{\\left (q_{2} + q_{3} \\right )} \\cos{\\left (q_{1} \\right )} + d_{4} \\sin{\\left (q_{2} + q_{3} + q_{4} \\right )} \\cos{\\left (q_{1} \\right )}\\\\- \\sin{\\left (q_{1} \\right )} \\cos{\\left (q_{5} \\right )} \\cos{\\left (q_{2} + q_{3} + q_{4} \\right )} - \\sin{\\left (q_{5} \\right )} \\cos{\\left (q_{1} \\right )} & - \\sin{\\left (q_{1} \\right )} \\sin{\\left (q_{5} \\right )} \\cos{\\left (q_{2} + q_{3} + q_{4} \\right )} + \\cos{\\left (q_{1} \\right )} \\cos{\\left (q_{5} \\right )} & - \\sin{\\left (q_{1} \\right )} \\sin{\\left (q_{2} + q_{3} + q_{4} \\right )} & - \\left(d_{1x} + d_{2} \\sin{\\left (q_{2} \\right )} + d_{3} \\sin{\\left (q_{2} + q_{3} \\right )} + d_{4} \\sin{\\left (q_{2} + q_{3} + q_{4} \\right )}\\right) \\sin{\\left (q_{1} \\right )}\\\\- \\sin{\\left (q_{2} + q_{3} + q_{4} \\right )} \\cos{\\left (q_{5} \\right )} & - \\sin{\\left (q_{5} \\right )} \\sin{\\left (q_{2} + q_{3} + q_{4} \\right )} & \\cos{\\left (q_{2} + q_{3} + q_{4} \\right )} & d_{0z} + d_{1z} + d_{2} \\cos{\\left (q_{2} \\right )} + d_{3} \\cos{\\left (q_{2} + q_{3} \\right )} + d_{4} \\cos{\\left (q_{2} + q_{3} + q_{4} \\right )}\\\\0 & 0 & 0 & 1\\end{matrix}\\right]$$"
      ],
      "text/plain": [
       "⎡-sin(q₁)⋅sin(q₅) + cos(q₁)⋅cos(q₅)⋅cos(q₂ + q₃ + q₄)  sin(q₁)⋅cos(q₅) + sin(q\n",
       "⎢                                                                             \n",
       "⎢-sin(q₁)⋅cos(q₅)⋅cos(q₂ + q₃ + q₄) - sin(q₅)⋅cos(q₁)  -sin(q₁)⋅sin(q₅)⋅cos(q₂\n",
       "⎢                                                                             \n",
       "⎢             -sin(q₂ + q₃ + q₄)⋅cos(q₅)                            -sin(q₅)⋅s\n",
       "⎢                                                                             \n",
       "⎣                         0                                                   \n",
       "\n",
       "₅)⋅cos(q₁)⋅cos(q₂ + q₃ + q₄)   sin(q₂ + q₃ + q₄)⋅cos(q₁)   d₀ₓ + d₁ₓ⋅cos(q₁) +\n",
       "                                                                              \n",
       " + q₃ + q₄) + cos(q₁)⋅cos(q₅)  -sin(q₁)⋅sin(q₂ + q₃ + q₄)               -(d₁ₓ \n",
       "                                                                              \n",
       "in(q₂ + q₃ + q₄)                   cos(q₂ + q₃ + q₄)                      d_0z\n",
       "                                                                              \n",
       "  0                                        0                                  \n",
       "\n",
       " d₂⋅sin(q₂)⋅cos(q₁) + d₃⋅sin(q₂ + q₃)⋅cos(q₁) + d₄⋅sin(q₂ + q₃ + q₄)⋅cos(q₁)⎤\n",
       "                                                                            ⎥\n",
       "+ d₂⋅sin(q₂) + d₃⋅sin(q₂ + q₃) + d₄⋅sin(q₂ + q₃ + q₄))⋅sin(q₁)              ⎥\n",
       "                                                                            ⎥\n",
       " + d_1z + d₂⋅cos(q₂) + d₃⋅cos(q₂ + q₃) + d₄⋅cos(q₂ + q₃ + q₄)               ⎥\n",
       "                                                                            ⎥\n",
       "                            1                                               ⎦"
      ]
     },
     "execution_count": 58,
     "metadata": {},
     "output_type": "execute_result"
    }
   ],
   "source": [
    "simplify(A_1*A_2*A_3*A_4*A_5)"
   ]
  }
 ],
 "metadata": {
  "kernelspec": {
   "display_name": "Python 2",
   "language": "python",
   "name": "python2"
  },
  "language_info": {
   "codemirror_mode": {
    "name": "ipython",
    "version": 2
   },
   "file_extension": ".py",
   "mimetype": "text/x-python",
   "name": "python",
   "nbconvert_exporter": "python",
   "pygments_lexer": "ipython2",
   "version": "2.7.6"
  }
 },
 "nbformat": 4,
 "nbformat_minor": 2
}
